{
 "cells": [
  {
   "cell_type": "code",
   "execution_count": 1,
   "id": "66d7f760-2a23-4648-9ded-bb305c38b24e",
   "metadata": {},
   "outputs": [],
   "source": [
    "import sys\n",
    "sys.path.append(\"..\")\n",
    "\n",
    "import h5py\n",
    "import numpy as np\n",
    "from rich.progress import Progress\n",
    "from rich.console import Console\n",
    "from hazma.parameters import (\n",
    "    electron_mass as me,\n",
    "    muon_mass as mmu,\n",
    "    charged_pion_mass as mpi\n",
    ")\n",
    "\n",
    "from gecko import SingleChannelConstraints\n",
    "from gecko import HiggsPortalConstraints\n",
    "from gecko import KineticMixingConstraints"
   ]
  },
  {
   "cell_type": "code",
   "execution_count": 2,
   "id": "dc5f8e43-53c3-4432-a1d8-a9660d99d8ba",
   "metadata": {},
   "outputs": [],
   "source": [
    "def add_to_dataset(dataset, dictionary, path=None):\n",
    "    \"\"\"Add the dictionary to the dataset.\"\"\"\n",
    "    for k, v in dictionary.items():\n",
    "        if path is not None:\n",
    "            newpath = \"/\".join([path, k])\n",
    "        else:\n",
    "            newpath = f\"{k}\"\n",
    "        if isinstance(v, dict):\n",
    "            add_to_dataset(dataset, v, newpath)\n",
    "        else:\n",
    "            # at the bottom\n",
    "            # print(f\"adding {newpath}\")\n",
    "            dataset.create_dataset(newpath, data=v)"
   ]
  },
  {
   "cell_type": "markdown",
   "id": "c77d1eef-9478-4e94-9e74-9253b6ac21ce",
   "metadata": {
    "heading_collapsed": "true",
    "tags": []
   },
   "source": [
    "## Single-Channel"
   ]
  },
  {
   "cell_type": "code",
   "execution_count": 5,
   "id": "99d67a95-bcec-4ec7-ab4e-fc176c1019e1",
   "metadata": {},
   "outputs": [],
   "source": [
    "singlechannel = SingleChannelConstraints()\n",
    "masses = {\n",
    "    'e e': np.geomspace(me, 1e4, 100),\n",
    "    'mu mu': np.geomspace(mmu, 1e4, 100),\n",
    "    'g g': np.geomspace(1e-1, 1e4, 100),\n",
    "    'pi pi': np.geomspace(mpi, 1e4, 100)\n",
    "}"
   ]
  },
  {
   "cell_type": "code",
   "execution_count": null,
   "id": "cb63574f-1c8b-4643-80d5-84e5e7ca5aba",
   "metadata": {
    "tags": []
   },
   "outputs": [],
   "source": [
    "ann_constraints = {}\n",
    "dec_constraints = {}\n",
    "with Progress(transient=True) as progress:\n",
    "    for fs, mxs in masses.items():\n",
    "        ann_constraints[fs] = singlechannel.compute(mxs, fs, decay=False, progress=progress)\n",
    "with Progress(transient=True) as progress:\n",
    "    for fs, mxs in masses.items():\n",
    "        dec_constraints[fs] = singlechannel.compute(mxs, fs, decay=True, progress=progress)"
   ]
  },
  {
   "cell_type": "markdown",
   "id": "384c993f-667a-4a5e-bd22-89420e9521fa",
   "metadata": {},
   "source": [
    "This uses \\(N_{\\mathrm{S}}/\\sqrt{N_{B}} > 25\\) for a discovery. This is used as an estimate for how the constraints change if the background for GECCO is larger by a factor of 10 ish larger then we'd expect."
   ]
  },
  {
   "cell_type": "code",
   "execution_count": null,
   "id": "bf48840e-777d-4ba2-b3d7-768913dc8230",
   "metadata": {},
   "outputs": [],
   "source": [
    "ann_constraints_25sigma = {}\n",
    "dec_constraints_25sigma = {}\n",
    "includes = {\"include_existing\": False, \"include_cmb\": False}\n",
    "with Progress(transient=True) as progress:\n",
    "    for fs, mxs in masses.items():\n",
    "        ann_constraints_25sigma[fs] = singlechannel.compute(mxs, fs, decay=False, sigma=25, progress=progress, **includes)\n",
    "with Progress(transient=True) as progress:\n",
    "    for fs, mxs in masses.items():\n",
    "        dec_constraints_25sigma[fs] = singlechannel.compute(mxs, fs, decay=True, sigma=25, progress=progress, **includes)"
   ]
  },
  {
   "cell_type": "code",
   "execution_count": 40,
   "id": "ff5d1070-cab0-4ea0-80fc-dd00b0f3e26f",
   "metadata": {},
   "outputs": [],
   "source": [
    "with h5py.File(\"../data/single_channel_ann.hdf5\", \"w\") as dataset:\n",
    "    add_to_dataset(dataset, ann_dec_constraints['ann'])\n",
    "    \n",
    "with h5py.File(\"../data/single_channel_dec.hdf5\", \"w\") as dataset:\n",
    "    add_to_dataset(dataset, ann_dec_constraints['dec'])"
   ]
  },
  {
   "cell_type": "markdown",
   "id": "526816cf-226e-4254-ac29-2f802933cd71",
   "metadata": {
    "tags": []
   },
   "source": [
    "## Higgs Portal"
   ]
  },
  {
   "cell_type": "code",
   "execution_count": 3,
   "id": "eca7e730-32ff-4d05-a485-c68d0e2701b0",
   "metadata": {},
   "outputs": [],
   "source": [
    "hp = HiggsPortalConstraints()\n",
    "mxs = np.geomspace(0.1, 250.0, 100)"
   ]
  },
  {
   "cell_type": "code",
   "execution_count": 4,
   "id": "64602858-34d3-4041-b792-909a1c1b9222",
   "metadata": {},
   "outputs": [
    {
     "data": {
      "application/vnd.jupyter.widget-view+json": {
       "model_id": "d963f9a74dd949edb36cab8b663b919b",
       "version_major": 2,
       "version_minor": 0
      },
      "text/plain": [
       "Output()"
      ]
     },
     "metadata": {},
     "output_type": "display_data"
    }
   ],
   "source": [
    "hp_constraints = {}\n",
    "\n",
    "with Progress() as progress:\n",
    "    hp_constraints = hp.compute(mxs, 2.0, progress=progress, include_cmb=False, include_existing=False, include_gecco=False,include_pheno=False)"
   ]
  },
  {
   "cell_type": "code",
   "execution_count": 10,
   "id": "a8c066fa-bc37-4e70-8b5f-327f592342e7",
   "metadata": {},
   "outputs": [],
   "source": [
    "from hazma.scalar_mediator import HiggsPortal\n",
    "from hazma.relic_density import relic_density\n",
    "from hazma.parameters import omega_h2_cdm\n",
    "from scipy.optimize import root_scalar"
   ]
  },
  {
   "cell_type": "code",
   "execution_count": 74,
   "id": "5d730cf9-8e95-44b8-8a63-b226830a208f",
   "metadata": {},
   "outputs": [],
   "source": [
    "def f(gsxx, stheta, model):\n",
    "    model.gsxx = gsxx\n",
    "    model.stheta = stheta\n",
    "    return relic_density(model, semi_analytic=True)"
   ]
  },
  {
   "cell_type": "code",
   "execution_count": 76,
   "id": "1d444180-e76c-4f17-a757-37d850377605",
   "metadata": {},
   "outputs": [],
   "source": [
    "gsxxs = np.geomspace(1e-4, 4*np.pi, 50);\n",
    "sthetas = np.geomspace(1e-10, 1.0, 50);\n",
    "rds = np.zeros((len(gsxxs), len(sthetas)))"
   ]
  },
  {
   "cell_type": "code",
   "execution_count": 97,
   "id": "ca34942f-b6b3-4c72-9005-71339cb68582",
   "metadata": {},
   "outputs": [
    {
     "data": {
      "application/vnd.jupyter.widget-view+json": {
       "model_id": "ffc9f44f985f4ae2bf30c74bf021040e",
       "version_major": 2,
       "version_minor": 0
      },
      "text/plain": [
       "Output()"
      ]
     },
     "metadata": {},
     "output_type": "display_data"
    }
   ],
   "source": [
    "model = HiggsPortal(mx=100.0, ms=1.0, gsxx=1., stheta=1.0)\n",
    "with Progress() as progress:\n",
    "    t = progress.add_task(\"rd\", total=len(gsxxs) * len(sthetas))\n",
    "    for i, gsxx in enumerate(gsxxs):\n",
    "        for j, stheta in enumerate(sthetas):\n",
    "            rds[i,j] = f(gsxx,stheta,model)\n",
    "            progress.update(t, advance=1, refresh=True)"
   ]
  },
  {
   "cell_type": "code",
   "execution_count": 82,
   "id": "ff82833e-5ffa-4b49-a4ca-78dba6c03d9a",
   "metadata": {},
   "outputs": [],
   "source": [
    "import matplotlib.pyplot as plt"
   ]
  },
  {
   "cell_type": "code",
   "execution_count": 98,
   "id": "5dfaeea0-7a71-4dae-88a4-511ca74b26dd",
   "metadata": {},
   "outputs": [
    {
     "data": {
      "image/png": "[encoded data removed]",
      "text/plain": [
       "<Figure size 432x288 with 1 Axes>"
      ]
     },
     "metadata": {
      "needs_background": "light"
     },
     "output_type": "display_data"
    }
   ],
   "source": [
    "plt.contour(gsxxs, sthetas, rds.T, levels=[1e-3, 0.12, 10, 50, 100, 1e3])\n",
    "plt.yscale('log')\n",
    "plt.xscale('log')"
   ]
  },
  {
   "cell_type": "code",
   "execution_count": 68,
   "id": "37dbdf27-a626-459c-8104-b4038b26a6f2",
   "metadata": {},
   "outputs": [
    {
     "ename": "ValueError",
     "evalue": "f(a) and f(b) must have different signs",
     "output_type": "error",
     "traceback": [
      "\u001b[0;31m---------------------------------------------------------------------------\u001b[0m",
      "\u001b[0;31mValueError\u001b[0m                                Traceback (most recent call last)",
      "\u001b[0;32m<ipython-input-68-3bb7a5c9fa94>\u001b[0m in \u001b[0;36m<module>\u001b[0;34m\u001b[0m\n\u001b[1;32m      3\u001b[0m     \u001b[0;32mreturn\u001b[0m \u001b[0mrelic_density\u001b[0m\u001b[0;34m(\u001b[0m\u001b[0mmodel\u001b[0m\u001b[0;34m,\u001b[0m \u001b[0msemi_analytic\u001b[0m\u001b[0;34m=\u001b[0m\u001b[0;32mTrue\u001b[0m\u001b[0;34m)\u001b[0m \u001b[0;34m-\u001b[0m \u001b[0momega_h2_cdm\u001b[0m\u001b[0;34m\u001b[0m\u001b[0;34m\u001b[0m\u001b[0m\n\u001b[1;32m      4\u001b[0m \u001b[0;34m\u001b[0m\u001b[0m\n\u001b[0;32m----> 5\u001b[0;31m \u001b[0mroot\u001b[0m \u001b[0;34m=\u001b[0m \u001b[0mroot_scalar\u001b[0m\u001b[0;34m(\u001b[0m\u001b[0mf\u001b[0m\u001b[0;34m,\u001b[0m \u001b[0mbracket\u001b[0m\u001b[0;34m=\u001b[0m\u001b[0;34m[\u001b[0m\u001b[0;34m-\u001b[0m\u001b[0;36m15\u001b[0m\u001b[0;34m,\u001b[0m \u001b[0;36m0\u001b[0m\u001b[0;34m]\u001b[0m\u001b[0;34m)\u001b[0m\u001b[0;34m\u001b[0m\u001b[0;34m\u001b[0m\u001b[0m\n\u001b[0m",
      "\u001b[0;32m/usr/lib/python3.9/site-packages/scipy/optimize/_root_scalar.py\u001b[0m in \u001b[0;36mroot_scalar\u001b[0;34m(f, args, method, bracket, fprime, fprime2, x0, x1, xtol, rtol, maxiter, options)\u001b[0m\n\u001b[1;32m    247\u001b[0m \u001b[0;34m\u001b[0m\u001b[0m\n\u001b[1;32m    248\u001b[0m         \u001b[0ma\u001b[0m\u001b[0;34m,\u001b[0m \u001b[0mb\u001b[0m \u001b[0;34m=\u001b[0m \u001b[0mbracket\u001b[0m\u001b[0;34m[\u001b[0m\u001b[0;34m:\u001b[0m\u001b[0;36m2\u001b[0m\u001b[0;34m]\u001b[0m\u001b[0;34m\u001b[0m\u001b[0;34m\u001b[0m\u001b[0m\n\u001b[0;32m--> 249\u001b[0;31m         \u001b[0mr\u001b[0m\u001b[0;34m,\u001b[0m \u001b[0msol\u001b[0m \u001b[0;34m=\u001b[0m \u001b[0mmethodc\u001b[0m\u001b[0;34m(\u001b[0m\u001b[0mf\u001b[0m\u001b[0;34m,\u001b[0m \u001b[0ma\u001b[0m\u001b[0;34m,\u001b[0m \u001b[0mb\u001b[0m\u001b[0;34m,\u001b[0m \u001b[0margs\u001b[0m\u001b[0;34m=\u001b[0m\u001b[0margs\u001b[0m\u001b[0;34m,\u001b[0m \u001b[0;34m**\u001b[0m\u001b[0mkwargs\u001b[0m\u001b[0;34m)\u001b[0m\u001b[0;34m\u001b[0m\u001b[0;34m\u001b[0m\u001b[0m\n\u001b[0m\u001b[1;32m    250\u001b[0m     \u001b[0;32melif\u001b[0m \u001b[0mmeth\u001b[0m \u001b[0;32min\u001b[0m \u001b[0;34m[\u001b[0m\u001b[0;34m'secant'\u001b[0m\u001b[0;34m]\u001b[0m\u001b[0;34m:\u001b[0m\u001b[0;34m\u001b[0m\u001b[0;34m\u001b[0m\u001b[0m\n\u001b[1;32m    251\u001b[0m         \u001b[0;32mif\u001b[0m \u001b[0mx0\u001b[0m \u001b[0;32mis\u001b[0m \u001b[0;32mNone\u001b[0m\u001b[0;34m:\u001b[0m\u001b[0;34m\u001b[0m\u001b[0;34m\u001b[0m\u001b[0m\n",
      "\u001b[0;32m/usr/lib/python3.9/site-packages/scipy/optimize/zeros.py\u001b[0m in \u001b[0;36mbrentq\u001b[0;34m(f, a, b, args, xtol, rtol, maxiter, full_output, disp)\u001b[0m\n\u001b[1;32m    774\u001b[0m     \u001b[0;32mif\u001b[0m \u001b[0mrtol\u001b[0m \u001b[0;34m<\u001b[0m \u001b[0m_rtol\u001b[0m\u001b[0;34m:\u001b[0m\u001b[0;34m\u001b[0m\u001b[0;34m\u001b[0m\u001b[0m\n\u001b[1;32m    775\u001b[0m         \u001b[0;32mraise\u001b[0m \u001b[0mValueError\u001b[0m\u001b[0;34m(\u001b[0m\u001b[0;34m\"rtol too small (%g < %g)\"\u001b[0m \u001b[0;34m%\u001b[0m \u001b[0;34m(\u001b[0m\u001b[0mrtol\u001b[0m\u001b[0;34m,\u001b[0m \u001b[0m_rtol\u001b[0m\u001b[0;34m)\u001b[0m\u001b[0;34m)\u001b[0m\u001b[0;34m\u001b[0m\u001b[0;34m\u001b[0m\u001b[0m\n\u001b[0;32m--> 776\u001b[0;31m     \u001b[0mr\u001b[0m \u001b[0;34m=\u001b[0m \u001b[0m_zeros\u001b[0m\u001b[0;34m.\u001b[0m\u001b[0m_brentq\u001b[0m\u001b[0;34m(\u001b[0m\u001b[0mf\u001b[0m\u001b[0;34m,\u001b[0m \u001b[0ma\u001b[0m\u001b[0;34m,\u001b[0m \u001b[0mb\u001b[0m\u001b[0;34m,\u001b[0m \u001b[0mxtol\u001b[0m\u001b[0;34m,\u001b[0m \u001b[0mrtol\u001b[0m\u001b[0;34m,\u001b[0m \u001b[0mmaxiter\u001b[0m\u001b[0;34m,\u001b[0m \u001b[0margs\u001b[0m\u001b[0;34m,\u001b[0m \u001b[0mfull_output\u001b[0m\u001b[0;34m,\u001b[0m \u001b[0mdisp\u001b[0m\u001b[0;34m)\u001b[0m\u001b[0;34m\u001b[0m\u001b[0;34m\u001b[0m\u001b[0m\n\u001b[0m\u001b[1;32m    777\u001b[0m     \u001b[0;32mreturn\u001b[0m \u001b[0mresults_c\u001b[0m\u001b[0;34m(\u001b[0m\u001b[0mfull_output\u001b[0m\u001b[0;34m,\u001b[0m \u001b[0mr\u001b[0m\u001b[0;34m)\u001b[0m\u001b[0;34m\u001b[0m\u001b[0;34m\u001b[0m\u001b[0m\n\u001b[1;32m    778\u001b[0m \u001b[0;34m\u001b[0m\u001b[0m\n",
      "\u001b[0;31mValueError\u001b[0m: f(a) and f(b) must have different signs"
     ]
    }
   ],
   "source": [
    "def f(val):\n",
    "    model.stheta=10**val\n",
    "    return relic_density(model, semi_analytic=True) - omega_h2_cdm\n",
    "\n",
    "root = root_scalar(f, bracket=[-15, 0])"
   ]
  },
  {
   "cell_type": "code",
   "execution_count": 50,
   "id": "5792cd9a-db6f-459f-8fdf-710dced16bd6",
   "metadata": {},
   "outputs": [],
   "source": [
    "model.mx = mxs[20]\n",
    "model.ms = 1.5*mxs[20]"
   ]
  },
  {
   "cell_type": "code",
   "execution_count": 73,
   "id": "8da11790-58e2-49d5-a29e-c8614e6e0f78",
   "metadata": {},
   "outputs": [
    {
     "data": {
      "text/plain": [
       "40.82292334170831"
      ]
     },
     "execution_count": 73,
     "metadata": {},
     "output_type": "execute_result"
    }
   ],
   "source": [
    "model.stheta = 1e-10\n",
    "model.gsxx = 0.001\n",
    "relic_density(model, semi_analytic=True)"
   ]
  },
  {
   "cell_type": "code",
   "execution_count": 5,
   "id": "9e99507c-6db7-4493-8350-1fd5179d3450",
   "metadata": {},
   "outputs": [
    {
     "data": {
      "application/vnd.jupyter.widget-view+json": {
       "model_id": "",
       "version_major": 2,
       "version_minor": 0
      },
      "text/plain": [
       "Output()"
      ]
     },
     "metadata": {},
     "output_type": "display_data"
    },
    {
     "data": {
      "text/html": [
       "<pre style=\"white-space:pre;overflow-x:auto;line-height:normal;font-family:Menlo,'DejaVu Sans Mono',consolas,'Courier New',monospace\"></pre>\n"
      ],
      "text/plain": []
     },
     "metadata": {},
     "output_type": "display_data"
    },
    {
     "data": {
      "application/vnd.jupyter.widget-view+json": {
       "model_id": "",
       "version_major": 2,
       "version_minor": 0
      },
      "text/plain": [
       "Output()"
      ]
     },
     "metadata": {},
     "output_type": "display_data"
    },
    {
     "data": {
      "text/html": [
       "<pre style=\"white-space:pre;overflow-x:auto;line-height:normal;font-family:Menlo,'DejaVu Sans Mono',consolas,'Courier New',monospace\"></pre>\n"
      ],
      "text/plain": []
     },
     "metadata": {},
     "output_type": "display_data"
    }
   ],
   "source": [
    "hp = HiggsPortalConstraints()\n",
    "mxs = np.geomspace(0.1, 250.0, 100)\n",
    "hp_constraints = {}\n",
    "\n",
    "with Progress(transient=True) as progress:\n",
    "    hp_constraints[\"ms/mx=2\"] = hp.compute(mxs, 2.0, progress=progress, include_relic_density=False)\n",
    "with Progress(transient=True) as progress:\n",
    "    hp_constraints[\"ms/mx=0.5\"] = hp.compute(mxs, 0.5, progress=progress, include_relic_density=False)"
   ]
  },
  {
   "cell_type": "code",
   "execution_count": 6,
   "id": "c27af830-acd4-4e25-bf85-81f6a86ce286",
   "metadata": {},
   "outputs": [
    {
     "data": {
      "application/vnd.jupyter.widget-view+json": {
       "model_id": "",
       "version_major": 2,
       "version_minor": 0
      },
      "text/plain": [
       "Output()"
      ]
     },
     "metadata": {},
     "output_type": "display_data"
    },
    {
     "data": {
      "text/html": [
       "<pre style=\"white-space:pre;overflow-x:auto;line-height:normal;font-family:Menlo,'DejaVu Sans Mono',consolas,'Courier New',monospace\"></pre>\n"
      ],
      "text/plain": []
     },
     "metadata": {},
     "output_type": "display_data"
    },
    {
     "data": {
      "application/vnd.jupyter.widget-view+json": {
       "model_id": "",
       "version_major": 2,
       "version_minor": 0
      },
      "text/plain": [
       "Output()"
      ]
     },
     "metadata": {},
     "output_type": "display_data"
    },
    {
     "data": {
      "text/html": [
       "<pre style=\"white-space:pre;overflow-x:auto;line-height:normal;font-family:Menlo,'DejaVu Sans Mono',consolas,'Courier New',monospace\"></pre>\n"
      ],
      "text/plain": []
     },
     "metadata": {},
     "output_type": "display_data"
    }
   ],
   "source": [
    "hp_constraints_25sigma = {}\n",
    "includes = {\"include_existing\": False, \"include_cmb\": False, \"include_pheno\": False, \"include_relic_density\": False}\n",
    "with Progress(transient=True) as progress:\n",
    "    hp_constraints_25sigma[\"ms/mx=2\"] = hp.compute(mxs, 2.0, progress=progress, sigma=25, **includes)\n",
    "with Progress(transient=True) as progress:\n",
    "    hp_constraints_25sigma[\"ms/mx=0.5\"] = hp.compute(mxs, 0.5, progress=progress, sigma=25, **includes)"
   ]
  },
  {
   "cell_type": "markdown",
   "id": "f580b540-1549-4fac-8b77-e1f50d1e65c7",
   "metadata": {
    "tags": []
   },
   "source": [
    "## Kinetic Mixing"
   ]
  },
  {
   "cell_type": "code",
   "execution_count": 7,
   "id": "acdace3e-d139-447d-bc85-42b4e6f679ab",
   "metadata": {},
   "outputs": [
    {
     "data": {
      "application/vnd.jupyter.widget-view+json": {
       "model_id": "",
       "version_major": 2,
       "version_minor": 0
      },
      "text/plain": [
       "Output()"
      ]
     },
     "metadata": {},
     "output_type": "display_data"
    },
    {
     "data": {
      "text/html": [
       "<pre style=\"white-space:pre;overflow-x:auto;line-height:normal;font-family:Menlo,'DejaVu Sans Mono',consolas,'Courier New',monospace\"></pre>\n"
      ],
      "text/plain": []
     },
     "metadata": {},
     "output_type": "display_data"
    },
    {
     "data": {
      "application/vnd.jupyter.widget-view+json": {
       "model_id": "",
       "version_major": 2,
       "version_minor": 0
      },
      "text/plain": [
       "Output()"
      ]
     },
     "metadata": {},
     "output_type": "display_data"
    },
    {
     "data": {
      "text/html": [
       "<pre style=\"white-space:pre;overflow-x:auto;line-height:normal;font-family:Menlo,'DejaVu Sans Mono',consolas,'Courier New',monospace\"></pre>\n"
      ],
      "text/plain": []
     },
     "metadata": {},
     "output_type": "display_data"
    }
   ],
   "source": [
    "km = KineticMixingConstraints()\n",
    "mxs = np.geomspace(0.1, 250.0, 100)\n",
    "km_constraints = {}\n",
    "with Progress(transient=True) as progress:\n",
    "    km_constraints = km.compute(mxs, 3.0, progress=progress, include_relic_density=False)\n",
    "    \n",
    "km_constraints_25sigma = {}\n",
    "includes = {\"include_existing\": False, \"include_cmb\": False, \"include_pheno\": False, \"include_relic_density\": False}\n",
    "with Progress(transient=True) as progress:\n",
    "    km_constraints_25sigma[\"mv/mx=3\"] = km.compute(mxs, 3.0, progress=progress, sigma=25, **includes)"
   ]
  },
  {
   "cell_type": "markdown",
   "id": "ed97818b-b216-4be7-b918-793ddab274d0",
   "metadata": {},
   "source": [
    "## RH-Neutrino"
   ]
  },
  {
   "cell_type": "code",
   "execution_count": null,
   "id": "b09b57f7-214d-41e7-9db3-b71d7ccc9afb",
   "metadata": {},
   "outputs": [],
   "source": []
  }
 ],
 "metadata": {
  "kernelspec": {
   "display_name": "Python 3",
   "language": "python",
   "name": "python3"
  },
  "language_info": {
   "codemirror_mode": {
    "name": "ipython",
    "version": 3
   },
   "file_extension": ".py",
   "mimetype": "text/x-python",
   "name": "python",
   "nbconvert_exporter": "python",
   "pygments_lexer": "ipython3",
   "version": "3.9.7"
  }
 },
 "nbformat": 4,
 "nbformat_minor": 5
}
