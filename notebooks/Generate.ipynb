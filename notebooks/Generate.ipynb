{
 "cells": [
  {
   "cell_type": "code",
   "execution_count": 1,
   "id": "66d7f760-2a23-4648-9ded-bb305c38b24e",
   "metadata": {},
   "outputs": [],
   "source": [
    "import sys\n",
    "sys.path.append(\"..\")\n",
    "\n",
    "import h5py\n",
    "import numpy as np\n",
    "from rich.progress import Progress\n",
    "from rich.console import Console\n",
    "from hazma.parameters import (\n",
    "    electron_mass as me,\n",
    "    muon_mass as mmu,\n",
    "    charged_pion_mass as mpi\n",
    ")\n",
    "\n",
    "from gecko import SingleChannelConstraints\n",
    "from gecko import HiggsPortalConstraints\n",
    "from gecko import KineticMixingConstraints\n",
    "from gecko.utils import add_to_dataset"
   ]
  },
  {
   "cell_type": "markdown",
   "id": "c77d1eef-9478-4e94-9e74-9253b6ac21ce",
   "metadata": {
    "heading_collapsed": "true",
    "tags": []
   },
   "source": [
    "## Single-Channel"
   ]
  },
  {
   "cell_type": "code",
   "execution_count": 3,
   "id": "99d67a95-bcec-4ec7-ab4e-fc176c1019e1",
   "metadata": {},
   "outputs": [],
   "source": [
    "singlechannel = SingleChannelConstraints()\n",
    "masses = {\n",
    "    'e e': np.geomspace(me, 1e4, 100),\n",
    "    'mu mu': np.geomspace(mmu, 1e4, 100),\n",
    "    'g g': np.geomspace(1e-1, 1e4, 100),\n",
    "    'pi pi': np.geomspace(mpi, 1e4, 100)\n",
    "}"
   ]
  },
  {
   "cell_type": "code",
   "execution_count": 4,
   "id": "cb63574f-1c8b-4643-80d5-84e5e7ca5aba",
   "metadata": {
    "tags": []
   },
   "outputs": [
    {
     "data": {
      "application/vnd.jupyter.widget-view+json": {
       "model_id": "",
       "version_major": 2,
       "version_minor": 0
      },
      "text/plain": [
       "Output()"
      ]
     },
     "metadata": {},
     "output_type": "display_data"
    },
    {
     "data": {
      "text/html": [
       "<pre style=\"white-space:pre;overflow-x:auto;line-height:normal;font-family:Menlo,'DejaVu Sans Mono',consolas,'Courier New',monospace\"></pre>\n"
      ],
      "text/plain": []
     },
     "metadata": {},
     "output_type": "display_data"
    },
    {
     "data": {
      "application/vnd.jupyter.widget-view+json": {
       "model_id": "",
       "version_major": 2,
       "version_minor": 0
      },
      "text/plain": [
       "Output()"
      ]
     },
     "metadata": {},
     "output_type": "display_data"
    },
    {
     "data": {
      "text/html": [
       "<pre style=\"white-space:pre;overflow-x:auto;line-height:normal;font-family:Menlo,'DejaVu Sans Mono',consolas,'Courier New',monospace\"></pre>\n"
      ],
      "text/plain": []
     },
     "metadata": {},
     "output_type": "display_data"
    }
   ],
   "source": [
    "ann_constraints = {}\n",
    "dec_constraints = {}\n",
    "with Progress(transient=True) as progress:\n",
    "    for fs, mxs in masses.items():\n",
    "        ann_constraints[fs] = singlechannel.compute(mxs, fs, decay=False, progress=progress)\n",
    "with Progress(transient=True) as progress:\n",
    "    for fs, mxs in masses.items():\n",
    "        dec_constraints[fs] = singlechannel.compute(mxs, fs, decay=True, progress=progress)"
   ]
  },
  {
   "cell_type": "markdown",
   "id": "384c993f-667a-4a5e-bd22-89420e9521fa",
   "metadata": {},
   "source": [
    "This uses \\(N_{\\mathrm{S}}/\\sqrt{N_{B}} > 25\\) for a discovery. This is used as an estimate for how the constraints change if the background for GECCO is larger by a factor of 10 ish larger then we'd expect."
   ]
  },
  {
   "cell_type": "code",
   "execution_count": 8,
   "id": "bf48840e-777d-4ba2-b3d7-768913dc8230",
   "metadata": {},
   "outputs": [
    {
     "data": {
      "application/vnd.jupyter.widget-view+json": {
       "model_id": "",
       "version_major": 2,
       "version_minor": 0
      },
      "text/plain": [
       "Output()"
      ]
     },
     "metadata": {},
     "output_type": "display_data"
    },
    {
     "data": {
      "text/html": [
       "<pre style=\"white-space:pre;overflow-x:auto;line-height:normal;font-family:Menlo,'DejaVu Sans Mono',consolas,'Courier New',monospace\"></pre>\n"
      ],
      "text/plain": []
     },
     "metadata": {},
     "output_type": "display_data"
    },
    {
     "data": {
      "application/vnd.jupyter.widget-view+json": {
       "model_id": "",
       "version_major": 2,
       "version_minor": 0
      },
      "text/plain": [
       "Output()"
      ]
     },
     "metadata": {},
     "output_type": "display_data"
    },
    {
     "data": {
      "text/html": [
       "<pre style=\"white-space:pre;overflow-x:auto;line-height:normal;font-family:Menlo,'DejaVu Sans Mono',consolas,'Courier New',monospace\"></pre>\n"
      ],
      "text/plain": []
     },
     "metadata": {},
     "output_type": "display_data"
    }
   ],
   "source": [
    "ann_constraints_25sigma = {}\n",
    "dec_constraints_25sigma = {}\n",
    "kwargs = {\"existing\": False, \"cmb\": False, \"sigma\": 25.0}\n",
    "with Progress(transient=True) as progress:\n",
    "    for fs, mxs in masses.items():\n",
    "        ann_constraints_25sigma[fs] = singlechannel.compute(mxs, fs, decay=False, progress=progress, **kwargs)\n",
    "with Progress(transient=True) as progress:\n",
    "    for fs, mxs in masses.items():\n",
    "        dec_constraints_25sigma[fs] = singlechannel.compute(mxs, fs, decay=True, progress=progress, **kwargs)"
   ]
  },
  {
   "cell_type": "code",
   "execution_count": 40,
   "id": "ff5d1070-cab0-4ea0-80fc-dd00b0f3e26f",
   "metadata": {},
   "outputs": [],
   "source": [
    "with h5py.File(\"../data/single_channel_ann.hdf5\", \"w\") as dataset:\n",
    "    add_to_dataset(dataset, ann_dec_constraints['ann'])\n",
    "    \n",
    "with h5py.File(\"../data/single_channel_dec.hdf5\", \"w\") as dataset:\n",
    "    add_to_dataset(dataset, ann_dec_constraints['dec'])"
   ]
  },
  {
   "cell_type": "markdown",
   "id": "526816cf-226e-4254-ac29-2f802933cd71",
   "metadata": {
    "tags": []
   },
   "source": [
    "## Higgs Portal"
   ]
  },
  {
   "cell_type": "code",
   "execution_count": 2,
   "id": "a6273479-d2d2-4a9b-9627-6fc689affc30",
   "metadata": {},
   "outputs": [
    {
     "data": {
      "application/vnd.jupyter.widget-view+json": {
       "model_id": "",
       "version_major": 2,
       "version_minor": 0
      },
      "text/plain": [
       "Output()"
      ]
     },
     "metadata": {},
     "output_type": "display_data"
    },
    {
     "data": {
      "text/html": [
       "<pre style=\"white-space:pre;overflow-x:auto;line-height:normal;font-family:Menlo,'DejaVu Sans Mono',consolas,'Courier New',monospace\"></pre>\n"
      ],
      "text/plain": []
     },
     "metadata": {},
     "output_type": "display_data"
    }
   ],
   "source": [
    "hp = HiggsPortalConstraints()\n",
    "mxs = np.geomspace(0.1, 100.0, 20)\n",
    "hp_constraints = {}\n",
    "with Progress(transient=True) as progress:\n",
    "    hp_constraints = hp.compute(mxs, 0.5, progress=progress, gecco=False)\n"
   ]
  },
  {
   "cell_type": "code",
   "execution_count": 3,
   "id": "9e99507c-6db7-4493-8350-1fd5179d3450",
   "metadata": {},
   "outputs": [
    {
     "data": {
      "application/vnd.jupyter.widget-view+json": {
       "model_id": "",
       "version_major": 2,
       "version_minor": 0
      },
      "text/plain": [
       "Output()"
      ]
     },
     "metadata": {},
     "output_type": "display_data"
    },
    {
     "data": {
      "text/html": [
       "<pre style=\"white-space:pre;overflow-x:auto;line-height:normal;font-family:Menlo,'DejaVu Sans Mono',consolas,'Courier New',monospace\"></pre>\n"
      ],
      "text/plain": []
     },
     "metadata": {},
     "output_type": "display_data"
    },
    {
     "data": {
      "application/vnd.jupyter.widget-view+json": {
       "model_id": "",
       "version_major": 2,
       "version_minor": 0
      },
      "text/plain": [
       "Output()"
      ]
     },
     "metadata": {},
     "output_type": "display_data"
    },
    {
     "data": {
      "text/html": [
       "<pre style=\"white-space:pre;overflow-x:auto;line-height:normal;font-family:Menlo,'DejaVu Sans Mono',consolas,'Courier New',monospace\"></pre>\n"
      ],
      "text/plain": []
     },
     "metadata": {},
     "output_type": "display_data"
    }
   ],
   "source": [
    "hp = HiggsPortalConstraints()\n",
    "mxs = np.geomspace(0.1, 250.0, 100)\n",
    "hp_constraints = {}\n",
    "\n",
    "with Progress(transient=True) as progress:\n",
    "    hp_constraints[\"ms/mx=1.5\"] = hp.compute(mxs, 2.0, progress=progress)\n",
    "with Progress(transient=True) as progress:\n",
    "    hp_constraints[\"ms/mx=0.5\"] = hp.compute(mxs, 0.5, progress=progress)"
   ]
  },
  {
   "cell_type": "code",
   "execution_count": 6,
   "id": "c27af830-acd4-4e25-bf85-81f6a86ce286",
   "metadata": {},
   "outputs": [
    {
     "data": {
      "application/vnd.jupyter.widget-view+json": {
       "model_id": "",
       "version_major": 2,
       "version_minor": 0
      },
      "text/plain": [
       "Output()"
      ]
     },
     "metadata": {},
     "output_type": "display_data"
    },
    {
     "data": {
      "text/html": [
       "<pre style=\"white-space:pre;overflow-x:auto;line-height:normal;font-family:Menlo,'DejaVu Sans Mono',consolas,'Courier New',monospace\"></pre>\n"
      ],
      "text/plain": []
     },
     "metadata": {},
     "output_type": "display_data"
    },
    {
     "data": {
      "application/vnd.jupyter.widget-view+json": {
       "model_id": "",
       "version_major": 2,
       "version_minor": 0
      },
      "text/plain": [
       "Output()"
      ]
     },
     "metadata": {},
     "output_type": "display_data"
    },
    {
     "data": {
      "text/html": [
       "<pre style=\"white-space:pre;overflow-x:auto;line-height:normal;font-family:Menlo,'DejaVu Sans Mono',consolas,'Courier New',monospace\"></pre>\n"
      ],
      "text/plain": []
     },
     "metadata": {},
     "output_type": "display_data"
    }
   ],
   "source": [
    "hp_constraints_25sigma = {}\n",
    "includes = {\"include_existing\": False, \"include_cmb\": False, \"include_pheno\": False, \"include_relic_density\": False}\n",
    "with Progress(transient=True) as progress:\n",
    "    hp_constraints_25sigma[\"ms/mx=2\"] = hp.compute(mxs, 2.0, progress=progress, sigma=25, **includes)\n",
    "with Progress(transient=True) as progress:\n",
    "    hp_constraints_25sigma[\"ms/mx=0.5\"] = hp.compute(mxs, 0.5, progress=progress, sigma=25, **includes)"
   ]
  },
  {
   "cell_type": "markdown",
   "id": "f580b540-1549-4fac-8b77-e1f50d1e65c7",
   "metadata": {
    "tags": []
   },
   "source": [
    "## Kinetic Mixing"
   ]
  },
  {
   "cell_type": "code",
   "execution_count": 4,
   "id": "acdace3e-d139-447d-bc85-42b4e6f679ab",
   "metadata": {},
   "outputs": [
    {
     "data": {
      "application/vnd.jupyter.widget-view+json": {
       "model_id": "",
       "version_major": 2,
       "version_minor": 0
      },
      "text/plain": [
       "Output()"
      ]
     },
     "metadata": {},
     "output_type": "display_data"
    },
    {
     "data": {
      "text/html": [
       "<pre style=\"white-space:pre;overflow-x:auto;line-height:normal;font-family:Menlo,'DejaVu Sans Mono',consolas,'Courier New',monospace\"></pre>\n"
      ],
      "text/plain": []
     },
     "metadata": {},
     "output_type": "display_data"
    }
   ],
   "source": [
    "km = KineticMixingConstraints()\n",
    "mxs = np.geomspace(0.1, 250.0, 100)\n",
    "km_constraints = {}\n",
    "with Progress(transient=True) as progress:\n",
    "    km_constraints = km.compute(mxs, 3.0, progress=progress)"
   ]
  },
  {
   "cell_type": "code",
   "execution_count": 5,
   "id": "ce0e5680-5250-4f8e-97d4-7fdaf60a94ad",
   "metadata": {},
   "outputs": [
    {
     "data": {
      "text/plain": [
       "{'cmb': array([           inf,            inf,            inf,            inf,\n",
       "                   inf,            inf,            inf,            inf,\n",
       "                   inf,            inf,            inf,            inf,\n",
       "                   inf,            inf,            inf,            inf,\n",
       "                   inf,            inf,            inf,            inf,\n",
       "                   inf, 1.11103953e-30, 1.24321869e-30, 1.39652501e-30,\n",
       "        1.48463918e-30, 1.56791816e-30, 1.65367153e-30, 1.74177346e-30,\n",
       "        1.83206882e-30, 1.92437013e-30, 2.00258266e-30, 1.92802262e-30,\n",
       "        1.86399367e-30, 1.80857604e-30, 1.76027910e-30, 1.71793481e-30,\n",
       "        1.68061346e-30, 1.66579201e-30, 1.66951047e-30, 1.67297338e-30,\n",
       "        1.67619081e-30, 1.67917470e-30, 1.68193727e-30, 1.68449261e-30,\n",
       "        1.73952765e-30, 1.81995486e-30, 1.90116965e-30, 1.98292562e-30,\n",
       "        2.06497097e-30, 2.14704881e-30, 2.22890196e-30, 2.36487904e-30,\n",
       "        2.51623972e-30, 2.67440653e-30, 2.83932533e-30, 3.01089112e-30,\n",
       "        3.18894683e-30, 3.37533973e-30, 3.63467656e-30, 3.91247660e-30,\n",
       "        4.20982726e-30, 4.52784401e-30, 4.86767134e-30, 5.23046191e-30,\n",
       "        5.62596294e-30, 6.07231986e-30, 6.55281591e-30, 7.06986193e-30,\n",
       "        7.62599455e-30, 8.22389863e-30, 8.86638781e-30, 9.57712499e-30,\n",
       "        1.03704200e-29, 1.12301897e-29, 1.21621384e-29, 1.31724842e-29,\n",
       "        1.42680088e-29, 1.54560945e-29, 1.68145644e-29, 1.83324258e-29,\n",
       "        2.00012203e-29, 2.18386004e-29, 2.38648853e-29, 2.61034772e-29,\n",
       "        2.85814080e-29, 3.13121425e-29, 3.43425786e-29, 3.77163894e-29,\n",
       "        4.14830795e-29, 5.76343961e-29, 6.69530708e-29, 7.57448472e-29,\n",
       "        8.46384476e-29, 9.45558236e-29, 1.05531991e-28, 1.17723358e-28,\n",
       "        1.31337976e-28, 1.46627275e-28, 1.63460564e-28, 1.81696614e-28]),\n",
       " 'comptel': array([            inf,             inf,             inf,             inf,\n",
       "                    inf,             inf,             inf,             inf,\n",
       "                    inf,             inf,             inf,             inf,\n",
       "                    inf,             inf,             inf,             inf,\n",
       "                    inf,             inf,             inf,             inf,\n",
       "                    inf,             inf,             inf, 2.10006425e+250,\n",
       "        7.87914456e+177, 4.48771410e+116, 6.30161231e+063, 2.37273173e+023,\n",
       "        1.33226868e-006, 5.36507326e-022, 5.55125702e-026, 1.17624839e-026,\n",
       "        5.68521513e-027, 3.67001278e-027, 2.97554511e-027, 2.69112112e-027,\n",
       "        2.57273451e-027, 2.38939569e-027, 2.07073579e-027, 1.96278666e-027,\n",
       "        1.94189051e-027, 1.97248932e-027, 2.04046365e-027, 2.13975588e-027,\n",
       "        2.26809009e-027, 2.42529271e-027, 1.96742853e-027, 1.69992979e-027,\n",
       "        1.66326762e-027, 1.70471691e-027, 1.66741213e-027, 1.31786343e-027,\n",
       "        1.23442125e-027, 1.26099573e-027, 1.32198843e-027, 1.40520199e-027,\n",
       "        1.41179876e-027, 1.37423439e-027, 1.43394857e-027, 1.52517392e-027,\n",
       "        1.44640064e-027, 1.45242790e-027, 1.52918056e-027, 1.63567525e-027,\n",
       "        1.76523832e-027, 1.91698560e-027, 2.09218263e-027, 2.29323707e-027,\n",
       "        2.49796043e-027, 2.67105826e-027, 2.44324655e-027, 2.31855528e-027,\n",
       "        2.40879573e-027, 2.60427708e-027, 2.84042680e-027, 3.11400967e-027,\n",
       "        3.42744238e-027, 3.78532584e-027, 4.19367049e-027, 4.65971072e-027,\n",
       "        5.19192467e-027, 5.80015104e-027, 6.49576596e-027, 7.29190770e-027,\n",
       "        8.20373695e-027, 9.24878054e-027, 1.04473155e-026, 1.18226742e-026,\n",
       "        1.34019168e-026, 1.88435661e-026, 2.24103661e-026, 2.58841669e-026,\n",
       "        2.96205470e-026, 3.38636600e-026, 3.86588951e-026, 4.40902856e-026,\n",
       "        5.02604206e-026, 5.72884356e-026, 6.53115962e-026, 7.44870921e-026]),\n",
       " 'egret': array([           inf,            inf,            inf,            inf,\n",
       "                   inf,            inf,            inf,            inf,\n",
       "                   inf,            inf,            inf,            inf,\n",
       "                   inf,            inf,            inf,            inf,\n",
       "                   inf,            inf,            inf,            inf,\n",
       "                   inf,            inf,            inf,            inf,\n",
       "                   inf,            inf,            inf,            inf,\n",
       "                   inf,            inf,            inf,            inf,\n",
       "                   inf,            inf,            inf,            inf,\n",
       "                   inf,            inf,            inf,            inf,\n",
       "                   inf,            inf,            inf, 3.87025801e+04,\n",
       "        5.09568345e+03, 1.21697757e+03, 3.07514452e+02, 7.28707438e+01,\n",
       "        1.55783268e+01, 2.96677285e+00, 5.03306625e-01, 7.80321360e-02,\n",
       "        9.94666449e-03, 1.11145290e-03, 1.10919393e-04, 9.96197015e-06,\n",
       "        7.21200399e-07, 4.68779030e-08, 2.91028019e-09, 1.40797206e-10,\n",
       "        6.34870905e-12, 2.91836075e-13, 1.06986489e-14, 3.99786591e-16,\n",
       "        1.65674264e-17, 6.15634187e-19, 2.76988606e-20, 1.54689241e-21,\n",
       "        1.00245374e-22, 1.04118790e-23, 1.48369101e-24, 3.46621458e-25,\n",
       "        1.38174148e-25, 7.65856648e-26, 5.48021225e-26, 4.51162620e-26,\n",
       "        3.96817201e-26, 3.73869687e-26, 3.76525861e-26, 3.99755722e-26,\n",
       "        4.35271796e-26, 4.77718722e-26, 5.26475380e-26, 5.82109549e-26,\n",
       "        6.45523098e-26, 7.17832041e-26, 7.41847166e-26, 7.41835150e-26,\n",
       "        7.94400744e-26, 1.31601187e-25, 1.58603994e-25, 1.79236355e-25,\n",
       "        1.86117429e-25, 2.03688097e-25, 2.24477307e-25, 2.44664419e-25,\n",
       "        2.64486794e-25, 2.85480271e-25, 3.08896458e-25, 3.35605435e-25]),\n",
       " 'fermi': array([           inf,            inf,            inf,            inf,\n",
       "                   inf,            inf,            inf,            inf,\n",
       "                   inf,            inf,            inf,            inf,\n",
       "                   inf,            inf,            inf,            inf,\n",
       "                   inf,            inf,            inf,            inf,\n",
       "                   inf,            inf,            inf,            inf,\n",
       "                   inf,            inf,            inf,            inf,\n",
       "                   inf,            inf,            inf,            inf,\n",
       "                   inf,            inf,            inf,            inf,\n",
       "                   inf,            inf,            inf,            inf,\n",
       "                   inf,            inf,            inf,            inf,\n",
       "                   inf,            inf,            inf,            inf,\n",
       "                   inf,            inf,            inf,            inf,\n",
       "                   inf,            inf,            inf,            inf,\n",
       "                   inf,            inf,            inf,            inf,\n",
       "                   inf,            inf,            inf,            inf,\n",
       "        2.31766935e+06, 2.32616714e+05, 5.84058383e+04, 1.59061420e+04,\n",
       "        4.10315962e+03, 8.87673365e+02, 1.76998331e+02, 3.18092472e+01,\n",
       "        5.07365471e+00, 7.13142616e-01, 8.79106651e-02, 8.35011567e-03,\n",
       "        7.14857261e-04, 5.57573058e-05, 3.84073183e-06, 2.33093573e-07,\n",
       "        1.25172063e-08, 6.00016789e-10, 1.92826426e-11, 7.28192294e-13,\n",
       "        2.66259009e-14, 9.60800176e-16, 3.54848122e-17, 1.40710049e-18,\n",
       "        4.86076606e-20, 3.95093455e-21, 3.26874057e-22, 3.78089454e-23,\n",
       "        6.77491867e-24, 1.98786439e-24, 8.92143903e-25, 5.73500605e-25,\n",
       "        4.51694892e-25, 3.89710099e-25, 3.52441953e-25, 3.29958885e-25]),\n",
       " 'integral': array([           inf,            inf,            inf,            inf,\n",
       "                   inf,            inf,            inf,            inf,\n",
       "                   inf,            inf,            inf,            inf,\n",
       "                   inf,            inf,            inf,            inf,\n",
       "                   inf,            inf,            inf,            inf,\n",
       "                   inf, 6.70049233e-25, 6.42235967e-27, 2.52628449e-27,\n",
       "        1.72178177e-27, 1.29766414e-27, 1.12068279e-27, 1.04139428e-27,\n",
       "        1.01274163e-27, 1.01573355e-27, 1.04163314e-27, 1.08622236e-27,\n",
       "        1.14757900e-27, 1.22510051e-27, 1.31903871e-27, 1.37375834e-27,\n",
       "        1.34636913e-27, 1.35509775e-27, 1.39081783e-27, 1.44911064e-27,\n",
       "        1.52802491e-27, 1.62707302e-27, 1.74674574e-27, 1.88826969e-27,\n",
       "        2.05348978e-27, 2.24482197e-27, 2.46524961e-27, 2.71834958e-27,\n",
       "        3.00834151e-27, 3.34015680e-27, 3.71952637e-27, 4.15308740e-27,\n",
       "        4.64851042e-27, 5.21464872e-27, 5.86171283e-27, 6.56996398e-27,\n",
       "        7.36079834e-27, 8.20711856e-27, 9.17480224e-27, 1.02813368e-26,\n",
       "        1.15469077e-26, 1.29948054e-26, 1.46518973e-26, 1.65491758e-26,\n",
       "        1.87223921e-26, 2.12127922e-26, 2.40679665e-26, 2.73428359e-26,\n",
       "        3.11007914e-26, 3.54150144e-26, 4.03700051e-26, 4.60633518e-26,\n",
       "        5.26077802e-26, 6.01335259e-26, 6.87910832e-26, 7.87543880e-26,\n",
       "        9.02245062e-26, 1.03433906e-25, 1.18651407e-25, 1.36187923e-25,\n",
       "        1.56403103e-25, 1.79713044e-25, 2.06599224e-25, 2.37618856e-25,\n",
       "        2.73416908e-25, 3.14740022e-25, 3.62452665e-25, 4.17555856e-25,\n",
       "        4.81208894e-25, 6.23102587e-25, 7.33489127e-25, 8.52474282e-25,\n",
       "        9.86562203e-25, 1.14135717e-24, 1.31940169e-24, 1.52427486e-24,\n",
       "        1.76023054e-24, 2.03219820e-24, 2.34587584e-24, 2.70785123e-24]),\n",
       " 'gc_ein_1_arcmin_cone_optimistic': array([            inf,             inf,             inf,             inf,\n",
       "                    inf,             inf,             inf,             inf,\n",
       "                    inf,             inf,             inf,             inf,\n",
       "                    inf,             inf,             inf,             inf,\n",
       "                    inf,             inf,             inf,             inf,\n",
       "                    inf, 9.52542487e+173, 7.62609392e-030, 1.42852001e-031,\n",
       "        5.65349850e-032, 3.44240941e-032, 2.53968408e-032, 2.07889776e-032,\n",
       "        1.82133681e-032, 1.65592196e-032, 1.55735830e-032, 1.51085186e-032,\n",
       "        1.47951356e-032, 1.48824848e-032, 1.49885792e-032, 1.54174843e-032,\n",
       "        1.58189953e-032, 1.64383007e-032, 1.71575529e-032, 1.79471057e-032,\n",
       "        1.90035323e-032, 2.00402274e-032, 2.13218115e-032, 2.28041342e-032,\n",
       "        2.43902505e-032, 2.63243557e-032, 2.84141126e-032, 3.07772904e-032,\n",
       "        3.36122541e-032, 3.66572769e-032, 4.01801662e-032, 4.42844202e-032,\n",
       "        4.88961241e-032, 5.40976473e-032, 6.00230478e-032, 6.67358384e-032,\n",
       "        7.44420705e-032, 8.33208675e-032, 9.34781054e-032, 1.04985535e-031,\n",
       "        1.18092321e-031, 1.33078093e-031, 1.50219529e-031, 1.69836239e-031,\n",
       "        1.92297123e-031, 2.18027855e-031, 2.47519617e-031, 2.81339232e-031,\n",
       "        3.20140914e-031, 3.64679881e-031, 4.15688182e-031, 4.74133901e-031,\n",
       "        5.41298335e-031, 6.18514891e-031, 7.07324297e-031, 8.09507170e-031,\n",
       "        9.27121760e-031, 1.06254766e-030, 1.21853648e-030, 1.39827053e-030,\n",
       "        1.60543086e-030, 1.84427615e-030, 2.11973406e-030, 2.43750725e-030,\n",
       "        2.80419633e-030, 3.22744226e-030, 3.71609162e-030, 4.28038824e-030,\n",
       "        4.93219545e-030, 6.39119755e-030, 7.52377301e-030, 8.74368363e-030,\n",
       "        1.01179760e-029, 1.17043225e-029, 1.35286922e-029, 1.56277096e-029,\n",
       "        1.80449159e-029, 2.08307670e-029, 2.40435827e-029, 2.77507875e-029]),\n",
       " 'gc_nfw_1_arcmin_cone': array([            inf,             inf,             inf,             inf,\n",
       "                    inf,             inf,             inf,             inf,\n",
       "                    inf,             inf,             inf,             inf,\n",
       "                    inf,             inf,             inf,             inf,\n",
       "                    inf,             inf,             inf,             inf,\n",
       "                    inf, 8.17967853e+175, 6.54868392e-028, 1.22669956e-029,\n",
       "        4.85477560e-030, 2.95606786e-030, 2.18087903e-030, 1.78519233e-030,\n",
       "        1.56401943e-030, 1.42197430e-030, 1.33733565e-030, 1.29739961e-030,\n",
       "        1.27048877e-030, 1.27798962e-030, 1.28710017e-030, 1.32393113e-030,\n",
       "        1.35840971e-030, 1.41159074e-030, 1.47335440e-030, 1.54115493e-030,\n",
       "        1.63187246e-030, 1.72089560e-030, 1.83094787e-030, 1.95823797e-030,\n",
       "        2.09444105e-030, 2.26052664e-030, 2.43997837e-030, 2.64290931e-030,\n",
       "        2.88635349e-030, 3.14783587e-030, 3.45035363e-030, 3.80279437e-030,\n",
       "        4.19881089e-030, 4.64547640e-030, 5.15430275e-030, 5.73074390e-030,\n",
       "        6.39249392e-030, 7.15493450e-030, 8.02715744e-030, 9.01532409e-030,\n",
       "        1.01408308e-029, 1.14276899e-029, 1.28996604e-029, 1.45841877e-029,\n",
       "        1.65129500e-029, 1.87225010e-029, 2.12550193e-029, 2.41591793e-029,\n",
       "        2.74911597e-029, 3.13158125e-029, 3.56960004e-029, 4.07148546e-029,\n",
       "        4.64824029e-029, 5.31131477e-029, 6.07393942e-029, 6.95140480e-029,\n",
       "        7.96138551e-029, 9.12431562e-029, 1.04638237e-028, 1.20072370e-028,\n",
       "        1.37861655e-028, 1.58371791e-028, 1.82025929e-028, 2.09313768e-028,\n",
       "        2.40802115e-028, 2.77147114e-028, 3.19108441e-028, 3.67565754e-028,\n",
       "        4.23537782e-028, 5.48825298e-028, 6.46081885e-028, 7.50838122e-028,\n",
       "        8.68851439e-028, 1.00507428e-027, 1.16173667e-027, 1.34198361e-027,\n",
       "        1.54955410e-027, 1.78878087e-027, 2.06467197e-027, 2.38301728e-027]),\n",
       " 'm31_nfw_1_arcmin_cone': array([            inf,             inf,             inf,             inf,\n",
       "                    inf,             inf,             inf,             inf,\n",
       "                    inf,             inf,             inf,             inf,\n",
       "                    inf,             inf,             inf,             inf,\n",
       "                    inf,             inf,             inf,             inf,\n",
       "                    inf, 2.46196975e+177, 1.97106300e-026, 3.69219547e-028,\n",
       "        1.46122010e-028, 8.89735414e-029, 6.56414331e-029, 5.37318123e-029,\n",
       "        4.70748150e-029, 4.27994534e-029, 4.02519475e-029, 3.90499283e-029,\n",
       "        3.82399492e-029, 3.84657146e-029, 3.87399292e-029, 3.98484902e-029,\n",
       "        4.08862477e-029, 4.24869229e-029, 4.43459234e-029, 4.63866253e-029,\n",
       "        4.91170970e-029, 5.17965701e-029, 5.51089907e-029, 5.89402460e-029,\n",
       "        6.30397697e-029, 6.80387157e-029, 7.34399638e-029, 7.95479036e-029,\n",
       "        8.68752355e-029, 9.47454923e-029, 1.03850857e-028, 1.14458834e-028,\n",
       "        1.26378382e-028, 1.39822394e-028, 1.55137362e-028, 1.72487440e-028,\n",
       "        1.92405198e-028, 2.15353602e-028, 2.41606302e-028, 2.71348747e-028,\n",
       "        3.05224938e-028, 3.43957612e-028, 3.88261880e-028, 4.38963815e-028,\n",
       "        4.97016885e-028, 5.63521303e-028, 6.39746593e-028, 7.27157779e-028,\n",
       "        8.27445765e-028, 9.42562508e-028, 1.07440009e-027, 1.22546064e-027,\n",
       "        1.39905584e-027, 1.59863205e-027, 1.82817150e-027, 2.09227640e-027,\n",
       "        2.39626658e-027, 2.74629241e-027, 3.14946577e-027, 3.61401175e-027,\n",
       "        4.14944454e-027, 4.76677120e-027, 5.47872793e-027, 6.30005401e-027,\n",
       "        7.24780956e-027, 8.34174362e-027, 9.60472134e-027, 1.10632192e-026,\n",
       "        1.27478996e-026, 1.65188800e-026, 1.94461683e-026, 2.25991858e-026,\n",
       "        2.61512228e-026, 3.02513415e-026, 3.49666618e-026, 4.03918447e-026,\n",
       "        4.66394285e-026, 5.38398223e-026, 6.21437616e-026, 7.17255140e-026]),\n",
       " 'draco_nfw_1_arcmin_cone': array([            inf,             inf,             inf,             inf,\n",
       "                    inf,             inf,             inf,             inf,\n",
       "                    inf,             inf,             inf,             inf,\n",
       "                    inf,             inf,             inf,             inf,\n",
       "                    inf,             inf,             inf,             inf,\n",
       "                    inf, 1.07756195e+178, 8.62700483e-026, 1.61601066e-027,\n",
       "        6.39550986e-028, 3.89421937e-028, 2.87301299e-028, 2.35174930e-028,\n",
       "        2.06038395e-028, 1.87325870e-028, 1.76175873e-028, 1.70914841e-028,\n",
       "        1.67369702e-028, 1.68357838e-028, 1.69558028e-028, 1.74410010e-028,\n",
       "        1.78952096e-028, 1.85957977e-028, 1.94094504e-028, 2.03026306e-028,\n",
       "        2.14977113e-028, 2.26704707e-028, 2.41202604e-028, 2.57971352e-028,\n",
       "        2.75914264e-028, 2.97793794e-028, 3.21434131e-028, 3.48167536e-028,\n",
       "        3.80238011e-028, 4.14684776e-028, 4.54537397e-028, 5.00966695e-028,\n",
       "        5.53136512e-028, 6.11978648e-028, 6.79009634e-028, 7.54947955e-028,\n",
       "        8.42124565e-028, 9.42565793e-028, 1.05746936e-027, 1.18764694e-027,\n",
       "        1.33591722e-027, 1.50544350e-027, 1.69935568e-027, 1.92126936e-027,\n",
       "        2.17535769e-027, 2.46643613e-027, 2.80006115e-027, 3.18264493e-027,\n",
       "        3.62158825e-027, 4.12543450e-027, 4.70246497e-027, 5.36363110e-027,\n",
       "        6.12342754e-027, 6.99693843e-027, 8.00159321e-027, 9.15753510e-027,\n",
       "        1.04880480e-026, 1.20200510e-026, 1.37846717e-026, 1.58179098e-026,\n",
       "        1.81614073e-026, 2.08633403e-026, 2.39794529e-026, 2.75742563e-026,\n",
       "        3.17224198e-026, 3.65103817e-026, 4.20382186e-026, 4.84218138e-026,\n",
       "        5.57953711e-026, 7.23003057e-026, 8.51125449e-026, 9.89127615e-026,\n",
       "        1.14459419e-025, 1.32404935e-025, 1.53043084e-025, 1.76788179e-025,\n",
       "        2.04132782e-025, 2.35647672e-025, 2.71992590e-025, 3.13930278e-025]),\n",
       " 'pheno': array([0.00000000e+00, 0.00000000e+00, 0.00000000e+00, 0.00000000e+00,\n",
       "        0.00000000e+00, 0.00000000e+00, 0.00000000e+00, 0.00000000e+00,\n",
       "        0.00000000e+00, 0.00000000e+00, 0.00000000e+00, 0.00000000e+00,\n",
       "        0.00000000e+00, 0.00000000e+00, 0.00000000e+00, 0.00000000e+00,\n",
       "        0.00000000e+00, 0.00000000e+00, 0.00000000e+00, 0.00000000e+00,\n",
       "        0.00000000e+00, 6.81709955e-24, 1.03740097e-23, 1.07652868e-23,\n",
       "        1.01776211e-23, 9.23585608e-24, 8.19889374e-24, 7.18379446e-24,\n",
       "        6.24260746e-24, 5.39540107e-24, 4.64616500e-24, 3.99094782e-24,\n",
       "        3.42215242e-24, 2.94421846e-24, 2.53342506e-24, 2.17952393e-24,\n",
       "        1.87508096e-24, 1.60356665e-24, 1.36994137e-24, 1.17016010e-24,\n",
       "        9.97196666e-25, 8.47067956e-25, 7.19157497e-25, 6.10219593e-25,\n",
       "        5.19092540e-25, 4.43228075e-25, 3.78444489e-25, 3.23125787e-25,\n",
       "        2.75890698e-25, 2.35558939e-25, 2.01122198e-25, 1.71719211e-25,\n",
       "        1.46614404e-25, 1.25179606e-25, 1.06878395e-25, 9.12527236e-26,\n",
       "        7.79114758e-26, 6.65206978e-26, 5.67952472e-26, 4.84916620e-26,\n",
       "        4.14020701e-26, 3.53489874e-26, 3.01808768e-26, 2.57683548e-26,\n",
       "        2.20009537e-26, 1.87843557e-26, 1.60380324e-26, 1.36932286e-26,\n",
       "        1.16912414e-26, 9.98194994e-27, 8.52256152e-27, 7.27653964e-27,\n",
       "        6.21268955e-27, 5.30437725e-27, 4.52886269e-27, 3.86673049e-27,\n",
       "        3.30140384e-27, 2.81872950e-27, 2.40662347e-27, 2.88383548e-27,\n",
       "        3.51562352e-27, 4.38417620e-27, 5.46013455e-27, 6.97471336e-27,\n",
       "        8.71394773e-27, 1.03563517e-26, 1.19667638e-26, 1.39390442e-26,\n",
       "        1.66559552e-26, 3.14247410e-26, 4.06331851e-26, 4.90331282e-26,\n",
       "        5.89189958e-26, 7.16426681e-26, 9.38673885e-26, 1.09786185e-25,\n",
       "                   inf,            inf,            inf,            inf]),\n",
       " 'relic-density': array([           nan,            nan,            nan,            nan,\n",
       "                   nan,            nan,            nan,            nan,\n",
       "                   nan,            nan,            nan,            nan,\n",
       "        0.00000000e+00, 0.00000000e+00, 0.00000000e+00, 0.00000000e+00,\n",
       "        0.00000000e+00, 0.00000000e+00, 0.00000000e+00, 0.00000000e+00,\n",
       "        0.00000000e+00, 1.46432987e-26, 1.85884535e-26, 1.96667155e-26,\n",
       "        2.02190888e-26, 2.05723341e-26, 2.08285025e-26, 2.10237733e-26,\n",
       "        2.11634318e-26, 2.12517557e-26, 2.12882423e-26, 2.12733711e-26,\n",
       "        2.12082739e-26, 2.10827386e-26, 2.08942269e-26, 2.06468276e-26,\n",
       "        2.03408432e-26, 1.99809784e-26, 1.95867866e-26, 1.91809825e-26,\n",
       "        1.87767635e-26, 1.83838033e-26, 1.80093589e-26, 1.76728982e-26,\n",
       "        1.73930414e-26, 1.71690781e-26, 1.69773985e-26, 1.68111375e-26,\n",
       "        1.66809534e-26, 1.65885187e-26, 1.65305897e-26, 1.64890457e-26,\n",
       "        1.64551689e-26, 1.64320041e-26, 1.64201413e-26, 1.64254199e-26,\n",
       "        1.64494906e-26, 1.64852473e-26, 1.65222334e-26, 1.65590329e-26,\n",
       "        1.66007556e-26, 1.66527813e-26, 1.67138096e-26, 1.67816530e-26,\n",
       "        1.68507736e-26, 1.69171461e-26, 1.69851290e-26, 1.70595529e-26,\n",
       "        1.71390337e-26, 1.72188416e-26, 1.72985700e-26, 1.73807342e-26,\n",
       "        1.74640759e-26, 1.75485439e-26, 1.76348518e-26, 1.77225195e-26,\n",
       "        1.78126425e-26, 1.79040556e-26, 1.79952235e-26, 1.80875664e-26,\n",
       "        1.81807632e-26, 1.82730678e-26, 1.83652271e-26, 1.84591730e-26,\n",
       "        1.85535313e-26, 1.86464213e-26, 1.87248558e-26, 1.85787958e-26,\n",
       "        1.58054530e-26, 1.82741117e-26, 1.87488172e-26, 1.89976921e-26,\n",
       "        1.91321959e-26, 1.92664930e-26, 1.93939897e-26, 1.95139421e-26,\n",
       "        1.96283740e-26, 1.97382509e-26, 1.98400927e-26, 1.99296301e-26])}"
      ]
     },
     "execution_count": 5,
     "metadata": {},
     "output_type": "execute_result"
    }
   ],
   "source": [
    "km_constraints"
   ]
  },
  {
   "cell_type": "markdown",
   "id": "ed97818b-b216-4be7-b918-793ddab274d0",
   "metadata": {},
   "source": [
    "## RH-Neutrino"
   ]
  },
  {
   "cell_type": "code",
   "execution_count": null,
   "id": "b09b57f7-214d-41e7-9db3-b71d7ccc9afb",
   "metadata": {},
   "outputs": [],
   "source": []
  }
 ],
 "metadata": {
  "kernelspec": {
   "display_name": "Python 3",
   "language": "python",
   "name": "python3"
  },
  "language_info": {
   "codemirror_mode": {
    "name": "ipython",
    "version": 3
   },
   "file_extension": ".py",
   "mimetype": "text/x-python",
   "name": "python",
   "nbconvert_exporter": "python",
   "pygments_lexer": "ipython3",
   "version": "3.9.7"
  }
 },
 "nbformat": 4,
 "nbformat_minor": 5
}
